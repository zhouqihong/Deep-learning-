{
 "cells": [
  {
   "cell_type": "markdown",
   "metadata": {},
   "source": [
    "## 石头剪刀布\n",
    "练习目标：\n",
    "我们会通过今天的作业，做出和电脑进行“石头剪刀布”的游戏。\n",
    "\n",
    "练习要求：\n",
    "和电脑玩一个剪刀石头布的游戏：电脑随机出拳，我们可选择出什么。\n",
    "\n",
    "### 双方出拳\n",
    "首先，我们要让双方选择出拳，才能判断胜负。\n",
    "我们可以设置变量computer_choice代表电脑的出拳选择，设置变量user_choice代表你的出拳选择。\n",
    "电脑的出拳，我们可以使用random.choice()来随机选择；我们的出拳，可以手动输入我们出拳的类型。\n",
    "另外，判断下输入：当输入的内容不是石头剪刀布时，电脑会提醒'输入有误，请重新出拳'，并重新出拳。\n",
    "请根据已经设置好的代码，补充代码，让代码符合上面的要求。\n",
    "\n",
    "### 双方量拳\n",
    "你和电脑已经对自己要出的拳进行了选择，接下来，我们需要知道双方的出拳类型。\n",
    "请使用print()函数补充亮拳的结果。\n",
    "\n",
    "\n",
    "### 判断胜负\n",
    "\n",
    "\n",
    "在前面两步，电脑和你已经选择完出拳的类型并亮拳后，只差最后一步：根据结果判断胜负。\n",
    "请将代码补充完整，并运行几次试试是否正确判断。\n",
    "\n",
    "\n",
    "\n",
    "\n"
   ]
  },
  {
   "cell_type": "code",
   "execution_count": 10,
   "metadata": {},
   "outputs": [
    {
     "name": "stdout",
     "output_type": "stream",
     "text": [
      "请出拳:(石头、剪刀、布)石头\n",
      "____________战斗过程___________\n",
      "电脑出了: 剪刀\n",
      "你出了: 石头\n",
      "______________结果________________\n",
      "你赢了！\n"
     ]
    }
   ],
   "source": [
    "import random \n",
    "\n",
    "#出拳\n",
    "punches = ['石头','剪刀','布']\n",
    "computer_choice = random.choice(punches)\n",
    "user_choice = ''  #为什么要定义‘’\n",
    "user_choice = input('请出拳:(石头、剪刀、布)') #请用户输入选择\n",
    "while user_choice not in punches: #当用户输入错误，提示错误，重新输入\n",
    "    print('输入有误,请重新出拳')\n",
    "    user_choice = input()\n",
    "    \n",
    "#亮拳\n",
    "print('____________战斗过程___________')\n",
    "print('电脑出了: %s'% computer_choice)\n",
    "print('你出了: %s'% user_choice)\n",
    "\n",
    "#胜负\n",
    "print('______________结果________________')\n",
    "if user_choice == computer_choice:  #使用if进行条件判断\n",
    "    print('平局！')\n",
    "\n",
    "elif (user_choice == '石头' and computer_choice == '剪刀') or (user_choice == '剪刀' and computer_choice == '布') or (user_choice == '布' and computer_choice == '石头'):\n",
    "    print('你赢了！')\n",
    "else:\n",
    "    print('你输了')\n",
    "    \n",
    "\n",
    "    \n",
    "    \n",
    "    \n",
    "    \n",
    "\n"
   ]
  },
  {
   "cell_type": "code",
   "execution_count": null,
   "metadata": {},
   "outputs": [],
   "source": []
  }
 ],
 "metadata": {
  "kernelspec": {
   "display_name": "Python 3",
   "language": "python",
   "name": "python3"
  },
  "language_info": {
   "codemirror_mode": {
    "name": "ipython",
    "version": 3
   },
   "file_extension": ".py",
   "mimetype": "text/x-python",
   "name": "python",
   "nbconvert_exporter": "python",
   "pygments_lexer": "ipython3",
   "version": "3.7.3"
  }
 },
 "nbformat": 4,
 "nbformat_minor": 2
}
