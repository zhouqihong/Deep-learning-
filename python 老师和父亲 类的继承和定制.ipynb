{
 "cells": [
  {
   "cell_type": "markdown",
   "metadata": {},
   "source": [
    "## 老师和父亲\n",
    "\n",
    "练习目标：\n",
    "在这个作业，我们会通过对类属性这个切入点，温习类的继承和定制。\n",
    "\n",
    "练习要求：\n",
    "每个人都有好几个不同的身份，且不同身份都附带一些特定的特征（属性）和行为（方法）。\n",
    "例如，有这样一群人：在学校时被归在老师，脸是严肃的；亲子关系中（parenthood）则被归到父亲，脸是甜蜜的。\n",
    "下面，我们就以这群人为例，探索类属性在类的继承和定制中的传递和改变。\n",
    "\n",
    "\n",
    "创建两个类：老师和父亲\n",
    "\n",
    "\n",
    "首先，我们需要创建两个类，并为它们添加属性。\n",
    "\n",
    "\n",
    "子类的继承和定制\n",
    "\n",
    "\n",
    "请你创建两个子类，同时继承已有的两个类（注：多重继承）；\n",
    "然后，在其中选个子类进行定制：将 face 属性的值改变为'gentle'；\n",
    "再者，创建实例 time3、time4，以调用子类的 face 属性。"
   ]
  },
  {
   "cell_type": "code",
   "execution_count": 5,
   "metadata": {},
   "outputs": [
    {
     "name": "stdout",
     "output_type": "stream",
     "text": [
      "serious\n",
      "gentle\n"
     ]
    }
   ],
   "source": [
    "class Teacher:\n",
    "    face = 'serious'\n",
    "    job = 'teacher'\n",
    "\n",
    "class Father:\n",
    "    face = 'sweet'\n",
    "    parenthood = 'dad'\n",
    "    \n",
    "class TeacherMore(Teacher, Father):\n",
    "    pass\n",
    "\n",
    "class FatherMore(Father, Teacher):\n",
    "    face = 'gentle'\n",
    "\n",
    "time3 = TeacherMore()\n",
    "time4 = FatherMore()\n",
    "print(time3.face)\n",
    "print(time4.face)\n"
   ]
  },
  {
   "cell_type": "code",
   "execution_count": null,
   "metadata": {},
   "outputs": [],
   "source": []
  }
 ],
 "metadata": {
  "kernelspec": {
   "display_name": "Python 3",
   "language": "python",
   "name": "python3"
  },
  "language_info": {
   "codemirror_mode": {
    "name": "ipython",
    "version": 3
   },
   "file_extension": ".py",
   "mimetype": "text/x-python",
   "name": "python",
   "nbconvert_exporter": "python",
   "pygments_lexer": "ipython3",
   "version": "3.7.3"
  }
 },
 "nbformat": 4,
 "nbformat_minor": 2
}
