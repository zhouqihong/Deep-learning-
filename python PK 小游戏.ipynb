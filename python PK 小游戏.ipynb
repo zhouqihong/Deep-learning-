{
 "cells": [
  {
   "cell_type": "markdown",
   "metadata": {},
   "source": [
    "## PK小游戏\n",
    "\n",
    "练习介绍\n",
    "\n",
    "练习目标：\n",
    "我们会在项目1代码的基础上，添加一个新功能，同时练习循环和判断的知识。\n",
    "\n",
    "练习要求：\n",
    "新功能是：每盘（3局）游戏结束后，游戏会问我们是否要继续游戏，再加一盘。\n",
    "我们可以选择再来一盘，也可以选择退出游戏。\n",
    "\n",
    "\n",
    "进一步拆解和分析\n",
    "\n",
    "看右侧的讲解：\n",
    "\n",
    "方案1：while True+break\n",
    "开启一个无限循环，设定跳出条件。\n",
    "\n",
    "\n",
    "方案2：while 变量名+变量名的布尔值判断\n",
    "在开头设某变量的布尔值为True，input后开启判断变量的布尔值是否改变。\n",
    "\n",
    "\n",
    "两种方案-参考代码\n",
    "看一看你写的代码是否和参考代码差不多。\n",
    "\n",
    "升级项目1\n",
    "升级项目1-参考代码"
   ]
  },
  {
   "cell_type": "code",
   "execution_count": null,
   "metadata": {},
   "outputs": [
    {
     "name": "stdout",
     "output_type": "stream",
     "text": [
      " \n",
      "______________现在是第 1 局________\n",
      "【玩家】\n",
      "血量：105\n",
      "攻击：42\n",
      "------------------------\n",
      "【敌人】\n",
      "血量：131\n",
      "攻击：30\n",
      "------------------------\n",
      " \n",
      "______________现在是第 2 局________\n",
      "【玩家】\n",
      "血量：128\n",
      "攻击：38\n",
      "------------------------\n",
      "【敌人】\n",
      "血量：125\n",
      "攻击：40\n",
      "------------------------\n"
     ]
    }
   ],
   "source": [
    "import time\n",
    "import random\n",
    "\n",
    "while True:\n",
    "    for i in range(1,4):\n",
    "        player_victory = 0\n",
    "        enemy_victory = 0\n",
    "        time.sleep(1.5)\n",
    "        print(' \\n______________现在是第 %s 局________' %ｉ)\n",
    "        player_life = random.randint(100,150)\n",
    "        player_attack = random.randint(30,50)\n",
    "        enemy_life = random.randint(100,150)\n",
    "        enemy_attack = random.randint(30,50)\n",
    "        \n",
    "        print('【玩家】\\n血量：%s\\n攻击：%s' % (player_life,player_attack))\n",
    "        print('------------------------')\n",
    "        time.sleep(1)\n",
    "        print('【敌人】\\n血量：%s\\n攻击：%s' % (enemy_life,enemy_attack))\n",
    "        print('------------------------')\n",
    "        time.sleep(1)\n",
    "        \n",
    "        #双方PK\n",
    "    while player_life > 0 and enemy_life > 0:\n",
    "        player_life = player_life - enemy_attack\n",
    "        enemy_life = enemy_life - player_life\n",
    "        print('你发起了攻击，【敌人】剩余血量'+str(enemy_life))\n",
    "        print('敌人向你发起了攻击，【玩家】剩余血量'+str(player_life))\n",
    "        print('____________')\n",
    "        time.sleep(1.5)\n",
    "        \n",
    "        #打印最终战果\n",
    "    if player_life > 0 and enemy_life <= 0:\n",
    "        player_victory += 1\n",
    "        print('敌人死翘翘了，你赢了！')\n",
    "    elif player_life <= 0 and enemy_life > 0:\n",
    "        enemy_victory += 1\n",
    "        print('悲催了，敌人把你干掉了！')\n",
    "    else:\n",
    "        print('哎呀，你和敌人同归于尽了！')\n",
    "    \n",
    "    if player_victory > enemy_victory:\n",
    "        time.sleep(1)\n",
    "        print('【最终结果：你赢了！】')\n",
    "    elif enemy_victory > player_victory:\n",
    "        print('【最终结果：你输了！】')\n",
    "    else:\n",
    "        print('【最终结果：平局！】')\n",
    "        \n",
    "    a1 = input('要继续游戏吗，请输入n退出，输入其他继续：')  # 在 while True 循环中设置跳出条件。\n",
    "    if a1 == 'n':\n",
    "        break\n",
    "\n",
    "        \n",
    "        "
   ]
  },
  {
   "cell_type": "code",
   "execution_count": null,
   "metadata": {},
   "outputs": [],
   "source": []
  },
  {
   "cell_type": "code",
   "execution_count": null,
   "metadata": {},
   "outputs": [],
   "source": []
  },
  {
   "cell_type": "code",
   "execution_count": null,
   "metadata": {},
   "outputs": [],
   "source": []
  },
  {
   "cell_type": "code",
   "execution_count": null,
   "metadata": {},
   "outputs": [],
   "source": []
  }
 ],
 "metadata": {
  "kernelspec": {
   "display_name": "Python 3",
   "language": "python",
   "name": "python3"
  },
  "language_info": {
   "codemirror_mode": {
    "name": "ipython",
    "version": 3
   },
   "file_extension": ".py",
   "mimetype": "text/x-python",
   "name": "python",
   "nbconvert_exporter": "python",
   "pygments_lexer": "ipython3",
   "version": "3.7.3"
  }
 },
 "nbformat": 4,
 "nbformat_minor": 2
}
